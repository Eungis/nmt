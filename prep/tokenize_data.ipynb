{
 "cells": [
  {
   "cell_type": "code",
   "execution_count": 1,
   "id": "df55095e-f644-4e4c-b70f-33740e258daf",
   "metadata": {},
   "outputs": [],
   "source": [
    "import pandas as pd\n",
    "from ToolCadeau.preprocessors.refiner import refine\n",
    "\n",
    "with open(\"../data/corpus/corpus.txt\", \"r\") as file:\n",
    "    kos, ens = [], []\n",
    "    for line in file:\n",
    "        ko, en = line.strip().split(\"\\t\")\n",
    "        kos += [ko]\n",
    "        ens += [en]"
   ]
  },
  {
   "cell_type": "code",
   "execution_count": 2,
   "id": "86c914c5-e39e-4c83-a70c-f39e51c80dc4",
   "metadata": {},
   "outputs": [],
   "source": [
    "corpus = pd.DataFrame({\"ko\": kos, \"en\": ens})"
   ]
  },
  {
   "cell_type": "markdown",
   "id": "e0b99482-e13a-4331-ab1f-15205db43596",
   "metadata": {},
   "source": [
    "refine corpus data"
   ]
  },
  {
   "cell_type": "code",
   "execution_count": 3,
   "id": "e742241e-c7f8-41fd-ae10-3fa2513807f9",
   "metadata": {},
   "outputs": [
    {
     "name": "stderr",
     "output_type": "stream",
     "text": [
      "100%|████████████████████████████████████████████| 2/2 [03:21<00:00, 100.69s/it]\n"
     ]
    }
   ],
   "source": [
    "# refine data\n",
    "from tqdm import tqdm\n",
    "\n",
    "regex_fn = \"../utils/preprocessors/tools/refine.regex.txt\"\n",
    "cols = [\"ko\", \"en\"]\n",
    "\n",
    "for col in tqdm(cols):\n",
    "    corpus[col] = refine(corpus, column=col, regex_fn=regex_fn)\n",
    "    corpus[col] = corpus[col].str.replace(pat=r\"[\\\"]\", repl=r\"``\", regex=True)"
   ]
  },
  {
   "cell_type": "markdown",
   "id": "615bba91-ab4e-45e5-af13-a6b5a13ce5be",
   "metadata": {},
   "source": [
    "shuffle corpus data"
   ]
  },
  {
   "cell_type": "code",
   "execution_count": 5,
   "id": "6f8c3720-fafb-44fb-b884-3fb42406568d",
   "metadata": {},
   "outputs": [],
   "source": [
    "corpus = corpus.sample(frac=1)"
   ]
  },
  {
   "cell_type": "markdown",
   "id": "2fe361bf-bbe3-4010-8adc-9ce8bb9fbb8a",
   "metadata": {},
   "source": [
    "split into train, valid, test data"
   ]
  },
  {
   "cell_type": "code",
   "execution_count": 6,
   "id": "76b710f6-9c36-416c-9dac-6365115bd426",
   "metadata": {},
   "outputs": [],
   "source": [
    "from sklearn.model_selection import train_test_split\n",
    "\n",
    "corpus_train, corpus_test = train_test_split(corpus, test_size=0.2, random_state=1004)\n",
    "\n",
    "corpus_test, corpus_valid = train_test_split(\n",
    "    corpus_test, test_size=0.5, random_state=1004\n",
    ")"
   ]
  },
  {
   "cell_type": "code",
   "execution_count": 7,
   "id": "4476b74d-8c1a-48eb-a7ef-c4243786fbb5",
   "metadata": {},
   "outputs": [],
   "source": [
    "def save_data_to_file(data, fn, lang):\n",
    "    with open(f\"../data/corpus/corpus.{fn}.{lang}\", \"w\") as f:\n",
    "        for line in data:\n",
    "            f.write(line.strip() + \"\\n\")\n",
    "\n",
    "\n",
    "for lang in [\"ko\", \"en\"]:\n",
    "    for fn in [\"train\", \"valid\", \"test\"]:\n",
    "        corpus_ = locals()[\"corpus\" + \"_\" + fn]\n",
    "        save_data_to_file(corpus_[lang], fn, lang)"
   ]
  },
  {
   "cell_type": "markdown",
   "id": "97d188d8-5245-4aec-b7df-b17a68f2af43",
   "metadata": {},
   "source": [
    "ko tokenization with mecab"
   ]
  },
  {
   "cell_type": "code",
   "execution_count": 10,
   "id": "6be0dad2-3ab1-484e-97b7-fede5fae9017",
   "metadata": {},
   "outputs": [],
   "source": [
    "! cat ../data/corpus/corpus.train.ko | mecab -O wakati -b 9999 | python3 ../preprocessing/post_tokenize.py ../data/corpus/corpus.train.ko > ../data/corpus/corpus.train.tok.ko"
   ]
  },
  {
   "cell_type": "code",
   "execution_count": 11,
   "id": "60671dfa-f9bb-4f1f-810f-e6d1d50a163b",
   "metadata": {},
   "outputs": [],
   "source": [
    "! cat ../data/corpus/corpus.valid.ko | mecab -O wakati -b 9999 | python3 ../preprocessing/post_tokenize.py ../data/corpus/corpus.valid.ko > ../data/corpus/corpus.valid.tok.ko"
   ]
  },
  {
   "cell_type": "code",
   "execution_count": 12,
   "id": "e6a82d27-6dca-40e7-af98-a8322d1840d2",
   "metadata": {},
   "outputs": [],
   "source": [
    "! cat ../data/corpus/corpus.test.ko | mecab -O wakati -b 9999 | python3 ../preprocessing/post_tokenize.py ../data/corpus/corpus.test.ko > ../data/corpus/corpus.test.tok.ko"
   ]
  },
  {
   "cell_type": "markdown",
   "id": "9f59506c-5aec-449c-926f-27f8ef957db9",
   "metadata": {},
   "source": [
    "en tokenization with nltk.word_tokenize"
   ]
  },
  {
   "cell_type": "code",
   "execution_count": 13,
   "id": "700024d1-9908-43d0-a720-7d8f3e184dd9",
   "metadata": {},
   "outputs": [],
   "source": [
    "! cat ../data/corpus/corpus.train.en | python3 ../preprocessing/tokenizer.py | python3 ../preprocessing/post_tokenize.py ../data/corpus/corpus.train.en > ../data/corpus/corpus.train.tok.en"
   ]
  },
  {
   "cell_type": "code",
   "execution_count": 14,
   "id": "7c5729b4-2441-4d11-87f8-218e4daec7df",
   "metadata": {},
   "outputs": [],
   "source": [
    "! cat ../data/corpus/corpus.valid.en | python3 ../preprocessing/tokenizer.py | python3 ../preprocessing/post_tokenize.py ../data/corpus/corpus.valid.en > ../data/corpus/corpus.valid.tok.en"
   ]
  },
  {
   "cell_type": "code",
   "execution_count": 15,
   "id": "e9b87a98-dc49-4756-aabb-c79d33fbee52",
   "metadata": {},
   "outputs": [],
   "source": [
    "! cat ../data/corpus/corpus.test.en | python3 ../preprocessing/tokenizer.py | python3 ../preprocessing/post_tokenize.py ../data/corpus/corpus.test.en > ../data/corpus/corpus.test.tok.en"
   ]
  },
  {
   "cell_type": "markdown",
   "id": "4d5155aa-1b13-4ba6-a1f4-c79f7e38fc52",
   "metadata": {},
   "source": [
    "subword-segmentation"
   ]
  },
  {
   "cell_type": "code",
   "execution_count": 16,
   "id": "a3663926-c1bc-4ff8-b637-ca63f3c7e361",
   "metadata": {},
   "outputs": [],
   "source": [
    "! python3 ./../preprocessing/learn_bpe.py --input ../data/corpus/corpus.train.tok.ko --output ./translation/models/bpe.ko.model --symbols 30000"
   ]
  },
  {
   "cell_type": "code",
   "execution_count": 17,
   "id": "4693b498-be4c-41a5-b6aa-3fb8f45ba77e",
   "metadata": {},
   "outputs": [],
   "source": [
    "! python3 ./../preprocessing/learn_bpe.py --input ../data/corpus/corpus.train.tok.en --output ./translation/models/bpe.en.model --symbols 50000"
   ]
  },
  {
   "cell_type": "code",
   "execution_count": 18,
   "id": "f4bb5a8d-9080-42ad-b711-8b38359bfd8c",
   "metadata": {},
   "outputs": [],
   "source": [
    "! cat ../data/corpus/corpus.train.tok.ko | python3 ../preprocessing/apply_bpe.py -c ./translation/models/bpe.ko.model > ../data/corpus/corpus.train.tok.bpe.ko"
   ]
  },
  {
   "cell_type": "code",
   "execution_count": 19,
   "id": "0da160f3-db26-40e3-ba41-0e606e4a724f",
   "metadata": {},
   "outputs": [],
   "source": [
    "! cat ../data/corpus/corpus.valid.tok.ko | python3 ../preprocessing/apply_bpe.py -c ./translation/models/bpe.ko.model > ../data/corpus/corpus.valid.tok.bpe.ko"
   ]
  },
  {
   "cell_type": "code",
   "execution_count": 20,
   "id": "e207f2e0-65e3-47b9-b94f-b1671f9d336f",
   "metadata": {},
   "outputs": [],
   "source": [
    "! cat ../data/corpus/corpus.test.tok.ko | python3 ../preprocessing/apply_bpe.py -c ./translation/models/bpe.ko.model > ../data/corpus/corpus.test.tok.bpe.ko"
   ]
  },
  {
   "cell_type": "code",
   "execution_count": 21,
   "id": "b1e8755d-fb00-4477-a613-b96df7aca8cc",
   "metadata": {},
   "outputs": [],
   "source": [
    "! cat ../data/corpus/corpus.train.tok.en | python3 ../preprocessing/apply_bpe.py -c ./translation/models/bpe.en.model > ../data/corpus/corpus.train.tok.bpe.en"
   ]
  },
  {
   "cell_type": "code",
   "execution_count": 22,
   "id": "2e56d02b-f381-4ef9-a343-1816ae947a07",
   "metadata": {},
   "outputs": [],
   "source": [
    "! cat ../data/corpus/corpus.valid.tok.en | python3 ../preprocessing/apply_bpe.py -c ./translation/models/bpe.en.model > ../data/corpus/corpus.valid.tok.bpe.en"
   ]
  },
  {
   "cell_type": "code",
   "execution_count": 23,
   "id": "85eaa461-1707-4d1a-a402-9840960f5fa8",
   "metadata": {},
   "outputs": [],
   "source": [
    "! cat ../data/corpus/corpus.test.tok.en | python3 ../preprocessing/apply_bpe.py -c ./translation/models/bpe.en.model > ../data/corpus/corpus.test.tok.bpe.en"
   ]
  },
  {
   "cell_type": "markdown",
   "id": "6e510903-7569-4247-9a1f-8f4f84125656",
   "metadata": {},
   "source": [
    "save train_corpus, valid_corpus, test_corpus"
   ]
  },
  {
   "cell_type": "code",
   "execution_count": 24,
   "id": "03159c5a-4bbe-400a-9263-f33acc4f86cb",
   "metadata": {},
   "outputs": [],
   "source": [
    "with open(\"../data/corpus/corpus.txt\", \"r\") as file:\n",
    "    kos, ens = [], []\n",
    "    for line in file:\n",
    "        ko, en = line.strip().split(\"\\t\")\n",
    "        kos += [ko]\n",
    "        ens += [en]"
   ]
  },
  {
   "cell_type": "code",
   "execution_count": 25,
   "id": "e9769924-44a2-465a-a56d-5baf63a79cc8",
   "metadata": {},
   "outputs": [],
   "source": [
    "def save_data():\n",
    "    for fn in [\"train\", \"valid\", \"test\"]:\n",
    "        with open(f\"../data/corpus/corpus.{fn}.tok.bpe.ko\", \"r\") as ko, open(\n",
    "            f\"../data/corpus/corpus.{fn}.tok.bpe.en\", \"r\"\n",
    "        ) as en:\n",
    "            kos, ens = [], []\n",
    "\n",
    "            for ko_line, en_line in zip(ko, en):\n",
    "                kos += [ko_line]\n",
    "                ens += [en_line]\n",
    "\n",
    "            corpus = pd.DataFrame({\"ko\": kos, \"en\": ens})\n",
    "\n",
    "        corpus.to_csv(f\"../data/corpus/corpus.{fn}.tsv\", sep=\"\\t\", index=None)\n",
    "\n",
    "\n",
    "save_data()"
   ]
  },
  {
   "cell_type": "code",
   "execution_count": null,
   "id": "9f1c6f8b-24ac-4f80-9eca-ed27dbad761e",
   "metadata": {},
   "outputs": [],
   "source": []
  }
 ],
 "metadata": {
  "kernelspec": {
   "display_name": "project_nlp",
   "language": "python",
   "name": "python3"
  },
  "language_info": {
   "codemirror_mode": {
    "name": "ipython",
    "version": 3
   },
   "file_extension": ".py",
   "mimetype": "text/x-python",
   "name": "python",
   "nbconvert_exporter": "python",
   "pygments_lexer": "ipython3",
   "version": "3.10.9"
  },
  "vscode": {
   "interpreter": {
    "hash": "6c87a711c8c6bd3ac185ec2dd9171ed185e279191e75d73d0e6b65c559dd8b5a"
   }
  }
 },
 "nbformat": 4,
 "nbformat_minor": 5
}
