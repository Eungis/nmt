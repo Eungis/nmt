{
 "cells": [
  {
   "cell_type": "code",
   "execution_count": 1,
   "metadata": {},
   "outputs": [
    {
     "name": "stdout",
     "output_type": "stream",
     "text": [
      "topk:  0.003571375011233613\n",
      "sort:  0.0019330840150360018\n"
     ]
    }
   ],
   "source": [
    "import torch\n",
    "import time\n",
    "from torch import mps\n",
    "\n",
    "# compare performance between sort and topk of pytorch\n",
    "\n",
    "data = torch.randn(20000, dtype=torch.float32, device=torch.device(\"mps:0\"))\n",
    "num_topk = 100\n",
    "\n",
    "\n",
    "def topk1(num_topk):\n",
    "    return data.topk(num_topk, sorted=False)\n",
    "\n",
    "\n",
    "def topk2(num_topk):\n",
    "    sort, idx = data.sort(descending=True)\n",
    "    return sort[:num_topk], idx[:num_topk]\n",
    "\n",
    "\n",
    "def benchmark(function, iter, warmup):\n",
    "    # warmup step\n",
    "    for k in range(warmup):\n",
    "        function\n",
    "\n",
    "    # implementation\n",
    "    start = time.perf_counter()\n",
    "    for k in range(iter):\n",
    "        function\n",
    "    torch.mps.synchronize()\n",
    "\n",
    "    return time.perf_counter() - start\n",
    "\n",
    "\n",
    "print(\"topk: \", benchmark(topk1(num_topk), 100, 3))\n",
    "print(\"sort: \", benchmark(topk2(num_topk), 100, 3))"
   ]
  }
 ],
 "metadata": {
  "kernelspec": {
   "display_name": "nlp",
   "language": "python",
   "name": "python3"
  },
  "language_info": {
   "codemirror_mode": {
    "name": "ipython",
    "version": 3
   },
   "file_extension": ".py",
   "mimetype": "text/x-python",
   "name": "python",
   "nbconvert_exporter": "python",
   "pygments_lexer": "ipython3",
   "version": "3.10.0"
  }
 },
 "nbformat": 4,
 "nbformat_minor": 2
}
